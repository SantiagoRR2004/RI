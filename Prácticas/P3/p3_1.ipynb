{
 "cells": [
  {
   "cell_type": "markdown",
   "id": "fc82b723",
   "metadata": {},
   "source": [
    "# Práctica 3 de Recuperación de información: Analizadores y consultas con Whoosh \n",
    "\n",
    "<h7>(Milagros Fernández Gavilanes)</h7>\n",
    "\n",
    "---\n",
    "\n",
    "<div style=\"background-color:#d9f2d9; color:black; padding:15px; border-radius:8px; border:1px solid #5cb85c;\">\n",
    "\n",
    "En esta práctica vamos a seguir explorando la recuperación de información utilizando la librería <b>Whoosh</b>. <br>\n",
    "\n",
    "Aprenderemos a:\n",
    "\n",
    "<ul>\n",
    "<li>1. Utilizar diferentes analizadores de texto.</li>\n",
    "<li>2. Realizar consultas simples y con plugins.</li>\n",
    "</ul>\n",
    "Whoosh es una biblioteca de búsqueda en Python que permite construir índices y ejecutar consultas de manera rápida y flexible.\n",
    "\n",
    "</div>\n",
    "\n",
    "---\n",
    "<div>\n",
    "Primero, necesitamos tener instalado Whoosh en el entorno de Google Colab o de Jupyter Notebooks:\n",
    "</div>"
   ]
  },
  {
   "cell_type": "code",
   "execution_count": null,
   "id": "0f1f4075",
   "metadata": {},
   "outputs": [],
   "source": [
    "%pip install Whoosh"
   ]
  },
  {
   "cell_type": "markdown",
   "id": "be5614f3",
   "metadata": {},
   "source": [
    "<div style=\"background-color:#d9f2d9; color:black; padding:15px; border-radius:8px; border:1px solid #5cb85c;\">\n",
    "<h2 style=\"text-align:center;\">Volviendo a la arquitectura de Whoosh</h2>\n",
    "\n",
    "<h3>Habíamos dicho que los componentes básicos son:</h3>\n",
    "\n",
    "<ul>\n",
    "<li><b>Esquema (Schema)</b>: Define la <b>estructura de los documentos</b> que se van a indexar.   \n",
    "  <ul>\n",
    "    <li>Cada campo (por ejemplo <code>title</code> o <code>content</code>) tiene un tipo: <code>TEXT</code>, <code>ID</code>, <code>KEYWORD</code>, etc.</li>\n",
    "    <li>Es el equivalente a un “modelo” de documento en Whoosh.</li>\n",
    "  </ul>\n",
    "</li>\n",
    "\n",
    "<li><b>Fields</b>: son los <b>atributos</b> de cada campo del esquema del documento.  \n",
    "Whoosh incluye tipos como:\n",
    "  <ul>\n",
    "    <li><code>ID</code>: identificador único, no analizado.</li>\n",
    "    <li><code>TEXT</code>: texto analizado (tokenizado), usado para búsquedas.</li>\n",
    "    <li><code>KEYWORD</code>: lista de términos separados por comas, útil para etiquetas.</li>\n",
    "    <li><code>NUMERIC</code>: enteros o decimales indexables.</li>\n",
    "    <li><code>DATETIME</code>: fecha y hora.</li>\n",
    "  </ul>\n",
    "  Permite especificar cómo se procesa el contenido, por ejemplo tokenización, normalización o análisis de texto.\n",
    "</li><br>\n",
    "\n",
    "<li><b>Análisis de texto (Analyzer)</b>: define cómo se transforma el texto. Los analizadores procesan el texto de los documentos y las consultas: tokenización, minúsculas, eliminación de stopwords, stemming, etc. Es plugable, lo que significa que puedes personalizar cómo se interpreta el texto. Whoosh trae analizadores como:\n",
    "  <ul>\n",
    "  <li><code>StandardAnalyzer</code> (estándar): El más común. Divide el texto en tokens (palabras), pasa a minúsculas y elimina stopwords (palabras vacías como “el”, “la”, “y”).</li>\n",
    "  <div style=\"text-align:center; margin:10px;\">\n",
    "    <pre style=\"display:inline-block; text-align:left; border:1px solid #990000; border-radius:6px; padding:10px; background-color:#fff;\">from whoosh.analysis import StandardAnalyzer\n",
    "analyzer = StandardAnalyzer()</pre>\n",
    "  </div>\n",
    "  <li><code>SimpleAnalyzer</code>: Divide el texto en tokens por caracteres alfanuméricos y pasa todo a minúsculas. No elimina stopwords.</li>\n",
    "\n",
    "  <div style=\"text-align:center; margin:10px;\">\n",
    "    <pre style=\"display:inline-block; text-align:left; border:1px solid #990000; border-radius:6px; padding:10px; background-color:#fff;\">from whoosh.analysis import SimpleAnalyzer\n",
    "analyzer = SimpleAnalyzer()</pre>\n",
    "</div>\n",
    "  <li><code>KeywordAnalyzer</code>: Trata todo el texto como un solo token. Útil para campos que no deben dividirse (ejemplo: códigos, tags).</li>\n",
    "  <div style=\"text-align:center; margin:10px;\">\n",
    "    <pre style=\"display:inline-block; text-align:left; border:1px solid #990000; border-radius:6px; padding:10px; background-color:#fff;\">from whoosh.analysis import KeywordAnalyzer\n",
    "analyzer = KeywordAnalyzer()</pre>\n",
    "  </div>\n",
    "  <li><code>RegexAnalyzer</code>: Permite definir un patrón de expresión regular para tokenizar.</li>\n",
    "  <div style=\"text-align:center; margin:10px;\">\n",
    "    <pre style=\"display:inline-block; text-align:left; border:1px solid #990000; border-radius:6px; padding:10px; background-color:#fff;\">from whoosh.analysis import RegexAnalyzer\n",
    "analyzer = RegexAnalyzer(r\"\\w+\")</pre>\n",
    "  </div>\n",
    "  <li>Analizadores avanzados:\n",
    "  <ul>\n",
    "  <li><code>StemmingAnalyzer</code>: Aplica un algoritmo de stemming (reduce palabras a su raíz, ej. “corriendo” → “correr”). Mejora la recuperación al agrupar variaciones de palabras.</li>\n",
    "  <div style=\"text-align:center; margin:10px;\">\n",
    "    <pre style=\"display:inline-block; text-align:left; border:1px solid #990000; border-radius:6px; padding:10px; background-color:#fff;\">from whoosh.analysis import StemmingAnalyzer\n",
    "analyzer = StemmingAnalyzer()</pre>\n",
    "  </div>\n",
    "  <li>Analizadores para lenguajes específicos (con <code>SnowballStemmer</code>): Para diferentes idiomas (español, inglés, francés, etc.).</li>\n",
    "  <div style=\"text-align:center; margin:10px;\">\n",
    "    <pre style=\"display:inline-block; text-align:left; border:1px solid #990000; border-radius:6px; padding:10px; background-color:#fff;\">from whoosh.analysis import StemmingAnalyzer\n",
    "from whoosh.lang.snowball import SpanishStemmer\n",
    "analyzer = StemmingAnalyzer(stemfn=SpanishStemmer())</pre>\n",
    "  </div>\n",
    "  </ul>\n",
    "</ul>\n",
    "</li>\n",
    "<li><b>Consulta (Query)</b>: El parser de consultas convierte las consultas de texto en objetos <code>Query</code>.\n",
    "<ul>\n",
    "  <li>Soporta operadores booleanos, búsqueda por proximidad, coincidencia aproximada y combinaciones complejas.</li>\n",
    "  <li>El motor de búsqueda ejecuta la consulta contra el índice invertido para obtener los documentos relevantes.</li>\n",
    "</ul>\n",
    "</li>\n",
    "</ul>\n",
    "\n",
    "---\n",
    "</div>\n"
   ]
  },
  {
   "cell_type": "markdown",
   "id": "d50f173f",
   "metadata": {},
   "source": [
    "<div style=\"background-color:#333333; color:white; padding:15px; border-radius:8px; border:1px solid #000;\">\n",
    "\n",
    "<h2 style=\"margin-top:0; color:white;\">Guión</h2>\n",
    "\n",
    "<b>Una vez importadas las librerías, nuestro punto de partida debería ser el esquema proporcionado la semana pasada, con el fin de especificar estos campos de los documentos en un índice. Sin embargo, comenzaremos definiendo el conjunto de documentos, junto con su estructura (que hará uso del esquema).</b>\n",
    "<br>\n",
    "\n",
    "<b>Nota:</b> El esquema es el conjunto de todos los campos posibles en un documento.\n",
    "\n",
    "Cada documento individual puede usar solo un subconjunto de los campos disponibles en el esquema.\n",
    "\n",
    "</div>\n"
   ]
  },
  {
   "cell_type": "markdown",
   "id": "7832550e",
   "metadata": {},
   "source": [
    "<div style=\"background-color: lightblue; padding: 10px; border-radius: 5px;\">\n",
    "<span style=\"color:black\">En primer lugar importamos las librerías...</span>\n",
    "</div>\n"
   ]
  },
  {
   "cell_type": "code",
   "execution_count": null,
   "id": "c5669a06",
   "metadata": {},
   "outputs": [],
   "source": [
    "from whoosh.qparser import *\n",
    "from whoosh.fields import Schema, TEXT, KEYWORD, NUMERIC\n",
    "from whoosh.index import create_in\n",
    "from whoosh import analysis\n",
    "import os"
   ]
  },
  {
   "cell_type": "markdown",
   "id": "e672ae99",
   "metadata": {},
   "source": [
    "<div style=\"background-color: lightblue; padding: 10px; border-radius: 5px;\">\n",
    "<span style=\"color:black\">En segundo lugar definimos los documentos que usaremos más adelante ... Se trata de tres libros ...</span>\n",
    "</div>\n"
   ]
  },
  {
   "cell_type": "code",
   "execution_count": null,
   "id": "8dabde63",
   "metadata": {},
   "outputs": [],
   "source": [
    "abstract1 = \"\"\"Captain Alatriste, by Arturo Pérez-Reverte, narrates the adventures of a veteran soldier in 17th-century Spain during the Habsburg era. Alatriste is a swordsman and mercenary who faces conspiracies, duels, and dangers while adhering to a strict code of honor. The series combines action, historical intrigue, and daily life in Spain’s Golden Age, offering an intense and realistic portrayal of the period. Magic and loyalty play a subtle but important role in Alatriste's tale.\"\"\"\n",
    "\n",
    "abstract2 = \"\"\"Children's and Household Tales (German: Kinder- und Hausmärchen) is a collection of fairy tales first published on 20 December 1812 by the Grimm brothers, Jacob and Wilhelm. The series is commonly known in English as Grimms' Fairy Tales. Many stories involve children, magic, and lessons about loyalty and courage.\"\"\"\n",
    "\n",
    "abstract3 = \"\"\"Harry Potter and the Half-Blood Prince, by J.K. Rowling, follows Harry’s sixth year at Hogwarts School of Witchcraft and Wizardry. As Voldemort’s power grows stronger, Harry discovers a mysterious potions textbook once owned by the “Half-Blood Prince,” which helps him excel in class while revealing secrets about Voldemort’s past. Together with Dumbledore, Harry learns about the dark lord’s Horcruxes, setting the stage for the final confrontation. Themes of magic, loyalty, and courage are central throughout the story.\"\"\"\n",
    "\n",
    "# Lista de documentos de ejemplo\n",
    "\n",
    "docs = [\n",
    "    {\n",
    "        \"year\": \"1996\",\n",
    "        \"author\": \"Arturo Pérez-Reverte\",\n",
    "        \"title\": \"Captain Alatriste\",\n",
    "        \"abstract\": abstract1,\n",
    "        \"subject\": \"novel, historic\",\n",
    "        \"keywords\": \"Captain Alatriste, Habsburg era, Mercenary\",\n",
    "    },\n",
    "    {\n",
    "        \"year\": \"1812\",\n",
    "        \"author\": \" Jacob and Wilhelm\",\n",
    "        \"title\": \"Grimms' Fairy Tales\",\n",
    "        \"abstract\": abstract2,\n",
    "        \"subject\": \"story, children\",\n",
    "        \"keywords\": \"The Frog King,  Rapunzel\",\n",
    "    },\n",
    "    {\n",
    "        \"year\": \"2006\",\n",
    "        \"author\": \"Joanne Rowling\",\n",
    "        \"title\": \"Harry Potter\",\n",
    "        \"abstract\": abstract3,\n",
    "        \"subject\": \"novel, fantasy\",\n",
    "        \"keywords\": \"Harry Potter, Half-Blood Prince, Magic\",\n",
    "    },\n",
    "]"
   ]
  },
  {
   "cell_type": "markdown",
   "id": "dde3209e",
   "metadata": {},
   "source": [
    "<div style=\"background-color: lightblue; padding: 10px; border-radius: 5px;\">\n",
    "<span style=\"color:black\">Lo que vamos a hacer a continuación es crear un índice utilizando diferentes analizadores y luego veremos cómo afectan los resultados de búsqueda.</span>\n",
    "\n",
    "<span style=\"color:black\">El punto de partida será la creación de la carpeta que contendrá los índices invertidos y a continuación crearemos el índice pero con una particularidad: este <b>índice con diferentes analizadores</b>.</span>\n",
    "</div>\n"
   ]
  },
  {
   "cell_type": "code",
   "execution_count": null,
   "id": "e2553a64",
   "metadata": {},
   "outputs": [],
   "source": [
    "def create_index(name, analizador):\n",
    "    schema = Schema(\n",
    "        year=NUMERIC(stored=True),\n",
    "        author=TEXT(analyzer=analizador, stored=True),\n",
    "        title=TEXT(analyzer=analizador, stored=True),\n",
    "        abstract=TEXT(analyzer=analizador, stored=True),\n",
    "        subject=KEYWORD(commas=True, scorable=True),\n",
    "        keywords=KEYWORD(commas=True, scorable=True),\n",
    "    )\n",
    "\n",
    "    # Crear carpeta para el índice\n",
    "    dir_name = \"indexdir_\" + name\n",
    "    if not os.path.exists(dir_name):\n",
    "        os.mkdir(dir_name)\n",
    "\n",
    "    ix = create_in(dir_name, schema)\n",
    "\n",
    "    writer = ix.writer()\n",
    "    for doc in docs:\n",
    "        writer.add_document(\n",
    "            year=doc[\"year\"],\n",
    "            author=doc[\"author\"],\n",
    "            title=doc[\"title\"],\n",
    "            abstract=doc[\"abstract\"],\n",
    "            subject=doc[\"subject\"],\n",
    "            keywords=doc[\"keywords\"],\n",
    "        )\n",
    "    writer.commit()\n",
    "    return ix"
   ]
  },
  {
   "cell_type": "markdown",
   "id": "a75fc17d",
   "metadata": {},
   "source": [
    "\n",
    "<div style=\"background-color: lightblue; padding: 10px; border-radius: 5px;\">\n",
    "<span style=\"color:black\">Estos son los tipos de campos predefinidos utilizados:<br>\n",
    "\n",
    "<ul>\n",
    "    <li>1. <code>whoosh.fields.NUMERIC</code>:<br>\n",
    "            Este campo almacena números enteros (<code>int</code>), largos (<code>long</code>) o de coma flotante (<code>float</code>) en un formato compacto y ordenable.</li><br>\n",
    "    <li>2.<code>whoosh.fields.TEXT</code>:<br>\n",
    "            Los campos <code>TEXT</code> pueden indexar el texto y almacenar posiciones de términos (por defecto, <code>TEXT(phrase=True)</code>) para permitir la <b>búsqueda por frases</b>.</li><br>\n",
    "    <li>3.<code>whoosh.fields.KEYWORD</code>:<br>\n",
    "        Este tipo de campo está diseñado para palabras clave separadas por espacios o comas. Este tipo se indexa y es buscable (y opcionalmente almacenable).\n",
    "    Sin embargo, no admite búsquedas de frases.<br>\n",
    "    Además convierte automáticamente a minúsculas las palabras clave antes de indexarlas, usando <code>lowercase=True</code>.<br>\n",
    "    Para separar las palabras clave con comas (lo que permite palabras clave que contengan espacios), usa <code>commas=True</code>. De lo contrario, las palabras clave se separan por espacios.<br><br>\n",
    "    Ahora bien, ¿qué significa que esté activo la opción <code>scorable=True</code>?<br><br>\n",
    "    <ul>\n",
    "        <li>Si <code>scorable=False</code> (por defecto), las búsquedas en ese campo solo devuelven coincidencias exactas, pero no asignan un score (puntuación de relevancia). Todos los documentos coincidentes se consideran “iguales”.</li>\n",
    "        <li>Si <code>scorable=True</code>, las búsquedas en ese campo sí generan puntuaciones de relevancia, de manera que los documentos que contengan más coincidencias (o más fuertes) aparecen más arriba en el ranking de resultados. </li>\n",
    "    </ul></li>\n",
    "</ul>\n",
    "\n",
    "Nota: existen muchos otros campos predefinidos que los usuarios pueden elegir.\n",
    "Consulta la documentación en: http://whoosh.readthedocs.io/en/latest/api/fields.html#pre-made-field-types.</span>\n",
    "</div>\n",
    "\n"
   ]
  },
  {
   "cell_type": "markdown",
   "id": "3ed5fe1d",
   "metadata": {},
   "source": [
    "<div style=\"background-color: lightblue; padding: 10px; border-radius: 5px;\">\n",
    "<span style=\"color:black\">Procedemos definir los analizadores y a crear cada uno de estos índices...</span>\n",
    "</div>\n"
   ]
  },
  {
   "cell_type": "code",
   "execution_count": null,
   "id": "978d565e",
   "metadata": {},
   "outputs": [],
   "source": [
    "analyzers = {\n",
    "    \"StandardAnalyzer\": analysis.StandardAnalyzer(),\n",
    "    \"RegexAnalyzer\": analysis.RegexAnalyzer(),\n",
    "    \"StemmingAnalyzer\": analysis.StemmingAnalyzer(),\n",
    "    \"SimpleAnalyzer\": analysis.SimpleAnalyzer(),\n",
    "    \"FancyAnalyzer\": analysis.FancyAnalyzer(),\n",
    "    \"LanguageAnalyzer\": analysis.LanguageAnalyzer(\"en\"),\n",
    "}\n",
    "\n",
    "indices = {}\n",
    "for name, analyzer in analyzers.items():\n",
    "    ix = create_index(name, analyzer)\n",
    "    print(f\"Indice vacío para {name} creado\")\n",
    "    indices[name] = ix"
   ]
  },
  {
   "cell_type": "markdown",
   "id": "be12ccd2",
   "metadata": {},
   "source": [
    "<div style=\"background-color: lightblue; padding: 10px; border-radius: 5px;\">\n",
    "<span style=\"color:black\">Definimos una función interactiva para probar consultas ...<br>\n",
    "\n",
    "Después de indexar los documentos, podemos escribir la consulta y convertir la cadena de consulta en un objeto de consulta usando el query parser.<br>\n",
    "\n",
    "Para ello, creamos un objeto <code>whoosh.qparser.QueryParser</code>, al cual le pasamos el nombre del campo por defecto donde se realizará la búsqueda y el esquema del índice en el que se consultará.<br>\n",
    "\n",
    "<b>Nota:</b> ¡Muy importante! La cadena de consulta debe ser un valor Unicode.\n",
    "</span>\n",
    "</div>\n"
   ]
  },
  {
   "cell_type": "code",
   "execution_count": null,
   "id": "e9e872c5",
   "metadata": {},
   "outputs": [],
   "source": [
    "def search_query(analyzer_name, field, plugin, query_text):\n",
    "    ix = indices[analyzer_name]\n",
    "    with ix.searcher() as searcher:\n",
    "        qp = QueryParser(field, ix.schema)\n",
    "        if plugin is not None:\n",
    "            qp.add_plugin(plugin)\n",
    "        query = qp.parse(query_text)\n",
    "\n",
    "        results = searcher.search(query)\n",
    "        print(\n",
    "            f\"--- Analizador: {analyzer_name} | Campo: {field} | Consulta: '{query_text}' y sus \\\"tokens\\\" '{query}'---\"\n",
    "        )\n",
    "        if results:\n",
    "            for r in results:\n",
    "                print(f\"{r['title']} ({r['year']})\")\n",
    "        else:\n",
    "            print(\"No results\")"
   ]
  },
  {
   "cell_type": "markdown",
   "id": "0a94d33b",
   "metadata": {},
   "source": [
    "<div style=\"background-color: lightblue; padding: 10px; border-radius: 5px;\">\n",
    "<span style=\"color:black\">Definimos una función interactiva para ver tokens generados por cada analizador ...</span>\n",
    "</div>"
   ]
  },
  {
   "cell_type": "code",
   "execution_count": null,
   "id": "b8a88c1a",
   "metadata": {},
   "outputs": [],
   "source": [
    "def show_tokens(analyzer_name, text):\n",
    "    analyzer = analyzers[analyzer_name]\n",
    "    print(f\"--- Tokens with {analyzer_name} ---\")\n",
    "    for token in analyzer(text):\n",
    "        print(token.text)"
   ]
  },
  {
   "cell_type": "markdown",
   "id": "91b8db45",
   "metadata": {},
   "source": [
    "<div style=\"background-color: lightblue; padding: 10px; border-radius: 5px;\">\n",
    "<span style=\"color:black\">Si queremos que los términos de la búsqueda se busquen tanto en el título como en el abstract, se utilizaría utiliza un <code>whoosh.qparser.MultifieldParser</code>\n",
    "<div style=\"text-align:center; margin:10px;\">\n",
    "    <pre style=\"display:inline-block; text-align:left; border:1px solid #990000; border-radius:6px; padding:10px; background-color:#fff;\">qp = MultifieldParser([\"title\", \"abstract\"], schema=schema)\n",
    "query = qp.parse(query_text)</pre>\n",
    "</div>\n",
    "</span>\n",
    "</div>\n"
   ]
  },
  {
   "cell_type": "markdown",
   "id": "d70fa711",
   "metadata": {},
   "source": [
    "<div style=\"background-color:#fff3cd; color:#665200; padding:15px; border-radius:8px; border:1px solid #ffecb5;\">\n",
    "\n",
    "<h3 style=\"margin-top:0; color:#665200;\">Trabajo a realizar:</h3>\n",
    "\n",
    "1. Crear otra función search_query2 que haga uso de <code>whoosh.qparser.MultifieldParser</code>.\n",
    "\n",
    "2. Añadir líneas de código realizando las mismas consultas que lo que viene a continuación.\n",
    "\n",
    "\n",
    "</div>"
   ]
  },
  {
   "cell_type": "markdown",
   "id": "533a1efd",
   "metadata": {},
   "source": [
    "<div style=\"background-color: lightblue; padding: 10px; border-radius: 5px;\">\n",
    "<span style=\"color:black\">Ejemplo que funciona con todos los analizadores:</span>\n",
    "</div>"
   ]
  },
  {
   "cell_type": "code",
   "execution_count": null,
   "id": "077fe513",
   "metadata": {},
   "outputs": [],
   "source": [
    "# Buscamos todos los que tengan \"Joanne Rowling\" en author\n",
    "search_query(\"StandardAnalyzer\", \"author\", None, \"Joanne Rowling\")\n",
    "search_query(\"RegexAnalyzer\", \"author\", None, \"Joanne Rowling\")\n",
    "search_query(\"StemmingAnalyzer\", \"author\", None, \"Joanne Rowling\")"
   ]
  },
  {
   "cell_type": "markdown",
   "id": "a36f7db2",
   "metadata": {},
   "source": [
    "<div style=\"background-color: lightblue; padding: 10px; border-radius: 5px;\">\n",
    "<span style=\"color:black\">Ejemplo que funciona solo con algunos analizadores:</span>\n",
    "</div>"
   ]
  },
  {
   "cell_type": "code",
   "execution_count": null,
   "id": "08e44191",
   "metadata": {},
   "outputs": [],
   "source": [
    "# Buscamos todos los que tengan \"Rowl\" en author\n",
    "search_query(\"StandardAnalyzer\", \"author\", None, \"Rowl\")\n",
    "search_query(\"RegexAnalyzer\", \"author\", None, \"Rowl\")\n",
    "search_query(\"StemmingAnalyzer\", \"author\", None, \"Rowl\")"
   ]
  },
  {
   "cell_type": "code",
   "execution_count": null,
   "id": "4d4384ab",
   "metadata": {},
   "outputs": [],
   "source": [
    "# Buscamos todos los que tengan \"collection AND tales AND story\" en abstract\n",
    "search_query(\"StandardAnalyzer\", \"abstract\", None, \"collection tales story\")\n",
    "search_query(\"RegexAnalyzer\", \"abstract\", None, \"collection tales story\")\n",
    "search_query(\"StemmingAnalyzer\", \"abstract\", None, \"collection tales story\")"
   ]
  },
  {
   "cell_type": "markdown",
   "id": "49edf02a",
   "metadata": {},
   "source": [
    "<div style=\"background-color: lightblue; padding: 10px; border-radius: 5px;\">\n",
    "<span style=\"color:black\">Vamos a ver los tokens generados por cada analizador según los ejemplos:</span>\n",
    "</div>"
   ]
  },
  {
   "cell_type": "code",
   "execution_count": null,
   "id": "768c7c22",
   "metadata": {},
   "outputs": [],
   "source": [
    "# Ejemplo: tokenización de \"Joanne Rowling\"\n",
    "show_tokens(\"StandardAnalyzer\", \"Joanne Rowling\")\n",
    "show_tokens(\"RegexAnalyzer\", \"Joanne Rowling\")\n",
    "show_tokens(\"StemmingAnalyzer\", \"Joanne Rowling\")"
   ]
  },
  {
   "cell_type": "code",
   "execution_count": null,
   "id": "93d6b281",
   "metadata": {},
   "outputs": [],
   "source": [
    "# Ejemplo: tokenización de \"Rowl\"\n",
    "show_tokens(\"StandardAnalyzer\", \"Rowl\")\n",
    "show_tokens(\"RegexAnalyzer\", \"Rowl\")\n",
    "show_tokens(\"StemmingAnalyzer\", \"Rowl\")"
   ]
  },
  {
   "cell_type": "code",
   "execution_count": null,
   "id": "95ab564e",
   "metadata": {},
   "outputs": [],
   "source": [
    "# Ejemplo: tokenización de \"collection tales story\"\n",
    "show_tokens(\"StandardAnalyzer\", \"collection tales story\")\n",
    "show_tokens(\"RegexAnalyzer\", \"collection tales story\")\n",
    "show_tokens(\"StemmingAnalyzer\", \"collection tales story\")"
   ]
  },
  {
   "cell_type": "code",
   "execution_count": null,
   "id": "3470bd48",
   "metadata": {},
   "outputs": [],
   "source": [
    "# Buscamos todos los que tengan \"collection OR (own confrontation)\" en abstract\n",
    "search_query(\"StandardAnalyzer\", \"abstract\", None, \"collection OR (own confrontation)\")\n",
    "search_query(\"RegexAnalyzer\", \"abstract\", None, \"collection OR (own confrontation)\")\n",
    "search_query(\"StemmingAnalyzer\", \"abstract\", None, \"collection OR (own confrontation)\")"
   ]
  },
  {
   "cell_type": "markdown",
   "id": "53f99aa5",
   "metadata": {},
   "source": [
    "<div style=\"background-color: lightblue; padding: 10px; border-radius: 5px;\">\n",
    "<span style=\"color:black\">Por defecto, el parser trata las palabras como si estuvieran conectadas por AND. Si no queremos tener que indicarlo podemos cambiar el argumento \"group\" si queremos que estén conectadas por OR.\n",
    "</span>\n",
    "</div>"
   ]
  },
  {
   "cell_type": "markdown",
   "id": "18367c80",
   "metadata": {},
   "source": [
    "<div style=\"background-color:#fff3cd; color:#665200; padding:15px; border-radius:8px; border:1px solid #ffecb5;\">\n",
    "\n",
    "<h3 style=\"margin-top:0; color:#665200;\">Trabajo a realizar:</h3>\n",
    "\n",
    "1. Crear otra función search_query3 que utilice:\n",
    "<div style=\"text-align:center; margin:10px;\">\n",
    "    <pre style=\"display:inline-block; text-align:left; border:1px solid #990000; border-radius:6px; padding:10px; background-color:#fff;\">qp = MultifieldParser([\"title\", \"abstract\"], schema=schema, group=OrGroup)\n",
    "query = qp.parse(query_text)</pre>\n",
    "</div>\n",
    "\n",
    "2. Añadir líneas de código realizando las mismas consultas que las anteriores.\n",
    "\n",
    "\n",
    "</div>\n",
    "\n"
   ]
  },
  {
   "cell_type": "markdown",
   "id": "2e9d7cfd",
   "metadata": {},
   "source": [
    "<div style=\"background-color: lightblue; padding: 10px; border-radius: 5px;\">\n",
    "<span style=\"color:black\">El query parser está construido sobre complementos modulares (plug-ins).<br>\n",
    "\n",
    "Por ejemplo, <code>GtLtPlugin()</code> te permite usar <code>>, <, >=, <=, => o =<</code> después de especificar el campo, y traduce la expresión al rango equivalente:\n",
    "<div style=\"text-align:center; margin:10px;\">\n",
    "    <pre style=\"display:inline-block; text-align:left; border:1px solid #990000; border-radius:6px; padding:10px; background-color:#fff;\">qp.add_plugin(GtLtPlugin()) \n",
    "query=qp.parse(u\"year:<2000\") </pre>\n",
    "</div>\n",
    "\n",
    "A continuación, vemos un ejemplo con GtLtPlugin:</span>\n",
    "</div>"
   ]
  },
  {
   "cell_type": "code",
   "execution_count": null,
   "id": "b0206eb5",
   "metadata": {},
   "outputs": [],
   "source": [
    "# Buscamos todos los que se hayan publicado antes del 2000\n",
    "search_query(\"StandardAnalyzer\", \"year\", GtLtPlugin(), \"year:<2000\")\n",
    "search_query(\"RegexAnalyzer\", \"year\", GtLtPlugin(), \"year:<2000\")\n",
    "search_query(\"StemmingAnalyzer\", \"year\", GtLtPlugin(), \"year:<2000\")"
   ]
  },
  {
   "cell_type": "markdown",
   "id": "a31fef25",
   "metadata": {},
   "source": [
    "<div style=\"background-color: lightblue; padding: 10px; border-radius: 5px;\">\n",
    "<span style=\"color:black\">En este caso no importa qué analizador uses (StandardAnalyzer, RegexAnalyzer, StemmingAnalyzer) porque el campo year es numérico (NUMERIC) y los analizadores solo afectan campos de texto (TEXT).\n",
    "\n",
    "<ul>\n",
    "    <li>Los analizadores solo tokenizan y transforman texto; no tienen efecto sobre búsquedas numéricas.</li>\n",
    "    <li>Lo importante para búsquedas con GtLtPlugin es que el plugin esté agregado antes de parsear la consulta y que la sintaxis sea correcta <code>(<2000, >1990, etc.)</code>.</li>\n",
    "</ul></span>\n",
    "</div>\n",
    "\n"
   ]
  },
  {
   "cell_type": "markdown",
   "id": "45cea6bb",
   "metadata": {},
   "source": [
    "<div style=\"background-color: lightblue; padding: 10px; border-radius: 5px;\">\n",
    "<span style=\"color:black\">Otro ejemplo, <code>FuzzyTermPlugin()</code> te permite buscar términos “difusos”, es decir, términos que no tienen que coincidir exactamente. El término difuso coincidirá con cualquier término similar dentro de un cierto número de “ediciones” (cambios):\n",
    "<div style=\"text-align:center; margin:10px;\">\n",
    "    <pre style=\"display:inline-block; text-align:left; border:1px solid #990000; border-radius:6px; padding:10px; background-color:#fff;\">qp.add_plugin(FuzzyTermPlugin()) \n",
    "query=qp.parse(u\"author:revert~\") </pre>\n",
    "</div>\n",
    "\n",
    "A continuación, vemos un ejemplo con FuzzyTermPlugin:</span>\n",
    "</div>"
   ]
  },
  {
   "cell_type": "code",
   "execution_count": null,
   "id": "c88a5915",
   "metadata": {},
   "outputs": [],
   "source": [
    "# Buscamos todos los autores que tenga \"revert\" y todos los términos en el índice que estén a una “edición”, por ejemplo \"reverte\" insertando una \"e\".\n",
    "search_query(\"StandardAnalyzer\", \"author\", FuzzyTermPlugin(), \"revert~\")\n",
    "search_query(\"RegexAnalyzer\", \"author\", FuzzyTermPlugin(), \"revert~\")\n",
    "search_query(\"StemmingAnalyzer\", \"author\", FuzzyTermPlugin(), \"revert~\")"
   ]
  },
  {
   "cell_type": "markdown",
   "id": "050a36c4",
   "metadata": {},
   "source": [
    "<div style=\"background-color: lightblue; padding: 10px; border-radius: 5px;\">\n",
    "<span style=\"color:black\">Otro ejemplo, <code>qparser.WildcardPlugin</code>, que ya se incluye en la lista de complementos por defecto del parser, le da la capacidad de realizar búsquedas con comodines (wildcards). Algunos complementos de uso frecuente se muestran en el siguiente código.<br>\n",
    "\n",
    "Puedes usar el argumento plugins al crear el objeto para sobrescribir la lista de complementos por defecto, o bien usar los métodos add_plugin() y/o remove_plugin_class() para modificar los complementos incluidos en el parser.<br>\n",
    "\n",
    "Aquí está la lista de complementos disponibles: http://whoosh.readthedocs.io/en/latest/api/qparser.html#plug-ins<br>\n",
    "\n",
    "A continuación, vemos un ejemplo con wildcard:</span>\n",
    "</div>"
   ]
  },
  {
   "cell_type": "code",
   "execution_count": null,
   "id": "5e5201fc",
   "metadata": {},
   "outputs": [],
   "source": [
    "# Buscamos todos los que tengan \"Harry*\" en keywords\n",
    "search_query(\"StandardAnalyzer\", \"keywords\", None, \"Harry*\")\n",
    "search_query(\"RegexAnalyzer\", \"keywords\", None, \"Harry*\")\n",
    "search_query(\"StemmingAnalyzer\", \"keywords\", None, \"Harry*\")"
   ]
  },
  {
   "cell_type": "code",
   "execution_count": null,
   "id": "a9c28bd5",
   "metadata": {},
   "outputs": [],
   "source": [
    "# Buscamos todos los que tengan \"Harry*\" en keywords\n",
    "search_query(\"StandardAnalyzer\", \"abstract\", None, '\"magic loyalty\"~2')\n",
    "search_query(\"RegexAnalyzer\", \"abstract\", None, '\"magic loyalty\"~2')\n",
    "search_query(\"StemmingAnalyzer\", \"abstract\", None, '\"magic loyalty\"~2')"
   ]
  },
  {
   "cell_type": "markdown",
   "id": "5fb2a27e",
   "metadata": {},
   "source": [
    "<div style=\"background-color:#fff3cd; color:#665200; padding:15px; border-radius:8px; border:1px solid #ffecb5;\">\n",
    "\n",
    "<h3 style=\"margin-top:0; color:#665200;\">Trabajo a realizar:</h3>\n",
    "\n",
    "1. ¿Para qué sirve RegexAnalyzer?\n",
    "\n",
    "2. Prueba a poner ejemplos cambiando la configuración de RegexAnalyzer.\n",
    "\n",
    "\n",
    "</div>\n"
   ]
  }
 ],
 "metadata": {
  "kernelspec": {
   "display_name": ".venv",
   "language": "python",
   "name": "python3"
  },
  "language_info": {
   "codemirror_mode": {
    "name": "ipython",
    "version": 3
   },
   "file_extension": ".py",
   "mimetype": "text/x-python",
   "name": "python",
   "nbconvert_exporter": "python",
   "pygments_lexer": "ipython3",
   "version": "3.12.3"
  }
 },
 "nbformat": 4,
 "nbformat_minor": 5
}
